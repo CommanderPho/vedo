{
 "cells": [
  {
   "cell_type": "code",
   "execution_count": null,
   "metadata": {},
   "outputs": [],
   "source": [
    "# Scatter plot of a gaussian distribution\n",
    "# with varying color and point sizes\n",
    "import numpy as np\n",
    "from vtkplotter import *\n",
    "from vtkplotter.pyplot import plot\n",
    "embedWindow('2d')\n",
    "\n",
    "n = 1000\n",
    "x = np.random.randn(n)\n",
    "y = np.random.randn(n)\n",
    "\n",
    "# define what size must have each marker:\n",
    "marker_sizes = np.sin(2*x)/8\n",
    "\n",
    "# define a (r,g,b) list of colors for each marker:\n",
    "marker_cols = np.c_[np.cos(2*x), np.zeros(n), np.zeros(n)]\n",
    "\n",
    "plt = plot(x, y,\n",
    "           ma=0.3,\n",
    "           marker=\">\",          # marker style\n",
    "           ms=marker_sizes,     # VARIABLE marker sizes\n",
    "           mc=marker_cols,      # VARIABLE marker colors\n",
    "           line=False,\n",
    "           xtitle=\"variable A\",\n",
    "           ytitle=\"variable B\",\n",
    "         )\n",
    "\n",
    "show(plt, zoom=1.2)"
   ]
  },
  {
   "cell_type": "code",
   "execution_count": null,
   "metadata": {},
   "outputs": [],
   "source": []
  }
 ],
 "metadata": {
  "kernelspec": {
   "display_name": "Python 3",
   "language": "python",
   "name": "python3"
  },
  "language_info": {
   "codemirror_mode": {
    "name": "ipython",
    "version": 3
   },
   "file_extension": ".py",
   "mimetype": "text/x-python",
   "name": "python",
   "nbconvert_exporter": "python",
   "pygments_lexer": "ipython3",
   "version": "3.7.3"
  }
 },
 "nbformat": 4,
 "nbformat_minor": 2
}
