{
 "cells": [
  {
   "cell_type": "code",
   "execution_count": null,
   "metadata": {},
   "outputs": [],
   "source": [
    "\"\"\"Histogram 2D\"\"\"\n",
    "\n",
    "from vtkplotter import *\n",
    "from vtkplotter.pyplot import histogram\n",
    "import numpy as np\n",
    "\n",
    "embedWindow('2d')\n",
    "n = 10000\n",
    "x = np.random.normal(2, 1, n)*2 + 3\n",
    "y = np.random.normal(1, 1, n)*1 + 7\n",
    "xm, ym = np.mean(x), np.mean(y)\n",
    "\n",
    "h = histogram(x, y,\n",
    "              bins=50, \n",
    "              aspect=4/3,\n",
    "#              cmap='Blues',\n",
    "              cmap='PuBu',\n",
    "              title='2D Gauss histo',\n",
    "              )\n",
    "\n",
    "# add some object to the plot\n",
    "h += Marker('*', s=0.3, c='r').pos(xm, ym, 0.1)\n",
    "\n",
    "show(h)"
   ]
  },
  {
   "cell_type": "code",
   "execution_count": null,
   "metadata": {},
   "outputs": [],
   "source": []
  }
 ],
 "metadata": {
  "kernelspec": {
   "display_name": "Python 3",
   "language": "python",
   "name": "python3"
  },
  "language_info": {
   "codemirror_mode": {
    "name": "ipython",
    "version": 3
   },
   "file_extension": ".py",
   "mimetype": "text/x-python",
   "name": "python",
   "nbconvert_exporter": "python",
   "pygments_lexer": "ipython3",
   "version": "3.7.3"
  }
 },
 "nbformat": 4,
 "nbformat_minor": 2
}
