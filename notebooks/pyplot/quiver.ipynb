{
 "cells": [
  {
   "cell_type": "code",
   "execution_count": null,
   "metadata": {},
   "outputs": [],
   "source": [
    "\"\"\"A simple quiver plot\"\"\"\n",
    "from vedo import *\n",
    "from vedo.pyplot import quiver\n",
    "embedWindow('2d')\n",
    "\n",
    "vp = Plotter(axes=1, bg='white')\n",
    "\n",
    "# create points and associated displacements\n",
    "pts1 = Grid(sx=1.0, sy=1.0).points()\n",
    "pts2 = Grid(sx=1.2, sy=1.2).rotateZ(4).points()\n",
    "\n",
    "qp = quiver(pts1,       # points\n",
    "            pts2-pts1,  # associated vectors\n",
    "            cmap='jet', # can also be a fixed color\n",
    "           )\n",
    "\n",
    "vp.show(qp, zoom=1.2)"
   ]
  },
  {
   "cell_type": "code",
   "execution_count": null,
   "metadata": {},
   "outputs": [],
   "source": []
  }
 ],
 "metadata": {
  "kernelspec": {
   "display_name": "Python 3",
   "language": "python",
   "name": "python3"
  },
  "language_info": {
   "codemirror_mode": {
    "name": "ipython",
    "version": 3
   },
   "file_extension": ".py",
   "mimetype": "text/x-python",
   "name": "python",
   "nbconvert_exporter": "python",
   "pygments_lexer": "ipython3",
   "version": "3.7.3"
  }
 },
 "nbformat": 4,
 "nbformat_minor": 2
}
