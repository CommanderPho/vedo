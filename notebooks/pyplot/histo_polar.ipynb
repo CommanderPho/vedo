{
 "cells": [
  {
   "cell_type": "code",
   "execution_count": null,
   "metadata": {},
   "outputs": [],
   "source": [
    "from vtkplotter import *\n",
    "from vtkplotter.pyplot import histogram\n",
    "import numpy as np\n",
    "\n",
    "embedWindow('2d')\n",
    "np.random.seed(3)\n",
    "\n",
    "##################################################################\n",
    "radhisto = histogram(np.random.rand(200)*6.28,\n",
    "                     mode='polar',\n",
    "                     title=\"random orientations\",\n",
    "                     bins=10,\n",
    "                     c='orange', #uniform color\n",
    "                     labels=[\"label\"+str(i) for i in range(10)],\n",
    "                    )\n",
    "\n",
    "show(radhisto)"
   ]
  },
  {
   "cell_type": "code",
   "execution_count": null,
   "metadata": {},
   "outputs": [],
   "source": []
  }
 ],
 "metadata": {
  "kernelspec": {
   "display_name": "Python 3",
   "language": "python",
   "name": "python3"
  },
  "language_info": {
   "codemirror_mode": {
    "name": "ipython",
    "version": 3
   },
   "file_extension": ".py",
   "mimetype": "text/x-python",
   "name": "python",
   "nbconvert_exporter": "python",
   "pygments_lexer": "ipython3",
   "version": "3.7.3"
  }
 },
 "nbformat": 4,
 "nbformat_minor": 2
}
