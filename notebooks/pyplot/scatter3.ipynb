{
 "cells": [
  {
   "cell_type": "code",
   "execution_count": null,
   "metadata": {},
   "outputs": [],
   "source": [
    "\"\"\"Create a scatter plot to overlay three different distributions\"\"\"\n",
    "from numpy.random import randn\n",
    "from vtkplotter.pyplot import plot\n",
    "from vtkplotter import *\n",
    "embedWindow('2d')\n",
    "\n",
    "### first scatter plot in blue\n",
    "x = randn(4000) * 3\n",
    "y = randn(4000) * 2\n",
    "# scatter cloud, place it at z=0:\n",
    "pts1 = Points([x,y], c=\"blue\", alpha=0.5).z(0.0)\n",
    "\n",
    "\n",
    "### second scatter plot in red\n",
    "x = randn(4000) + 4\n",
    "y = randn(4000) + 2\n",
    "pts2 = Points([x,y], c=\"red\", alpha=0.5).z(0.1)\n",
    "\n",
    "\n",
    "### third scatter plot with marker in black\n",
    "x = randn(20) + 4\n",
    "y = randn(20) - 4\n",
    "mark = Marker('*', s=0.2, filled=True)\n",
    "pts3 = Glyph([x,y], mark, c='k').z(0.2)\n",
    "\n",
    "\n",
    "label = Text(\"preliminary\\nresults!\",\n",
    "             s=0.6, pos=(-8,3,.2), depth=0)\n",
    "label.c('green').rotateZ(20)\n",
    "\n",
    "vp = Plotter(axes=1, bg=\"white\")\n",
    "show(pts1, pts2, pts3, label, zoom=1.4)"
   ]
  },
  {
   "cell_type": "code",
   "execution_count": null,
   "metadata": {},
   "outputs": [],
   "source": []
  }
 ],
 "metadata": {
  "kernelspec": {
   "display_name": "Python 3",
   "language": "python",
   "name": "python3"
  },
  "language_info": {
   "codemirror_mode": {
    "name": "ipython",
    "version": 3
   },
   "file_extension": ".py",
   "mimetype": "text/x-python",
   "name": "python",
   "nbconvert_exporter": "python",
   "pygments_lexer": "ipython3",
   "version": "3.7.3"
  }
 },
 "nbformat": 4,
 "nbformat_minor": 2
}
