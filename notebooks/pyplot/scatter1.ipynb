{
 "cells": [
  {
   "cell_type": "code",
   "execution_count": null,
   "metadata": {},
   "outputs": [],
   "source": [
    "\"\"\"A simple scatter plot with plotxy()\"\"\"\n",
    "from vedo import *\n",
    "from vedo.pyplot import plot\n",
    "from numpy.random import randn\n",
    "embedWindow('2d')\n",
    "\n",
    "x = randn(100)\n",
    "y = randn(100)*20\n",
    "\n",
    "plt = plot( x, y,       # accepts different formats\n",
    "            xtitle=\"variable x\",\n",
    "            ytitle=\"variable y\",\n",
    "            line=False,\n",
    "            marker=\".\",   # marker style\n",
    "            mc=\"dr\",      # marker color\n",
    ")\n",
    "\n",
    "show(plt, axes=1, zoom=1.4)"
   ]
  },
  {
   "cell_type": "code",
   "execution_count": null,
   "metadata": {},
   "outputs": [],
   "source": []
  }
 ],
 "metadata": {
  "kernelspec": {
   "display_name": "Python 3",
   "language": "python",
   "name": "python3"
  },
  "language_info": {
   "codemirror_mode": {
    "name": "ipython",
    "version": 3
   },
   "file_extension": ".py",
   "mimetype": "text/x-python",
   "name": "python",
   "nbconvert_exporter": "python",
   "pygments_lexer": "ipython3",
   "version": "3.7.3"
  }
 },
 "nbformat": 4,
 "nbformat_minor": 2
}
