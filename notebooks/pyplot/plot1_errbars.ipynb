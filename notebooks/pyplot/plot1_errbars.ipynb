{
 "cells": [
  {
   "cell_type": "code",
   "execution_count": null,
   "metadata": {},
   "outputs": [],
   "source": [
    "from vtkplotter import *\n",
    "from vtkplotter.pyplot import plot\n",
    "import numpy as np\n",
    "\n",
    "embedWindow('2d')\n",
    "\n",
    "x = np.linspace(0, 10, num=21)\n",
    "y = 3 * np.sin(x)\n",
    "errs = np.ones_like(x) / 2\n",
    "\n",
    "################# first plot\n",
    "plt = plot(\n",
    "    x, y,\n",
    "    \"*r-\",           # markers: *,o,p,h,D,d,v,^,s,x,a\n",
    "    xtitle=\"x variable (mm)\",\n",
    "    ytitle=\"y(x)\",\n",
    "    aspect=16 / 9,   # aspect ratio x/y of plot\n",
    "    # xlim=(-1, 14), # specify x range\n",
    "    # ylim=(-4, 5),  # specify y range\n",
    ")\n",
    "\n",
    "################# plot on top of plt\n",
    "plt.plot(\n",
    "    x+3, y,\n",
    "    \"sb--\",\n",
    "    xerrors=errs,    # set error bars on x\n",
    "    yerrors=errs,    # set error bars on y\n",
    "    spline=True,     # continous line through points\n",
    "    lw=1.5,\n",
    ")\n",
    "\n",
    "################## plot again on top of plt\n",
    "plt.plot(x, y/5, \"g\")\n",
    "\n",
    "\n",
    "##################\n",
    "plt.show()"
   ]
  },
  {
   "cell_type": "code",
   "execution_count": null,
   "metadata": {},
   "outputs": [],
   "source": []
  }
 ],
 "metadata": {
  "kernelspec": {
   "display_name": "Python 3",
   "language": "python",
   "name": "python3"
  },
  "language_info": {
   "codemirror_mode": {
    "name": "ipython",
    "version": 3
   },
   "file_extension": ".py",
   "mimetype": "text/x-python",
   "name": "python",
   "nbconvert_exporter": "python",
   "pygments_lexer": "ipython3",
   "version": "3.7.3"
  }
 },
 "nbformat": 4,
 "nbformat_minor": 2
}
