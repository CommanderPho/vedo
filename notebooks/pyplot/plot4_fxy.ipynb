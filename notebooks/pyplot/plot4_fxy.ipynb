{
 "cells": [
  {
   "cell_type": "code",
   "execution_count": null,
   "metadata": {},
   "outputs": [],
   "source": [
    "\"\"\"Draw a surface representing a 2-var function specified \n",
    "as a string or as a reference to an external existing function.\n",
    "\"\"\"\n",
    "from vtkplotter import *\n",
    "from vtkplotter.pyplot import plot\n",
    "\n",
    "embedWindow('2d')\n",
    "\n",
    "def my_z(x, y):\n",
    "    return sin(2 * x * y) * cos(3 * y) / 2\n",
    "\n",
    "f1 = plot(my_z)\n",
    "\n",
    "f1.show(viewup='z')"
   ]
  },
  {
   "cell_type": "code",
   "execution_count": null,
   "metadata": {},
   "outputs": [],
   "source": []
  }
 ],
 "metadata": {
  "kernelspec": {
   "display_name": "Python 3",
   "language": "python",
   "name": "python3"
  },
  "language_info": {
   "codemirror_mode": {
    "name": "ipython",
    "version": 3
   },
   "file_extension": ".py",
   "mimetype": "text/x-python",
   "name": "python",
   "nbconvert_exporter": "python",
   "pygments_lexer": "ipython3",
   "version": "3.7.3"
  }
 },
 "nbformat": 4,
 "nbformat_minor": 2
}
