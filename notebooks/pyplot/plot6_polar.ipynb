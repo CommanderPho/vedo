{
 "cells": [
  {
   "cell_type": "code",
   "execution_count": null,
   "metadata": {},
   "outputs": [],
   "source": [
    "from vedo import *\n",
    "from vedo.pyplot import plot\n",
    "import numpy as np\n",
    "\n",
    "embedWindow('2d')\n",
    "# settings.useFXAA = True\n",
    "# settings.multiSamples=8\n",
    "\n",
    "title     = \"A (splined) polar plot\"\n",
    "angles    = [  0,  20,  60, 160, 200, 250, 300, 340]\n",
    "distances = [0.1, 0.2, 0.3, 0.5, 0.6, 0.4, 0.2, 0.1]\n",
    "\n",
    "dn1 = plot(angles, distances, mode='polar', deg=True, spline=True, fill=True,\n",
    "           c='green', alpha=0.5, title=title, vmax=0.6)\n",
    "\n",
    "show(dn1, axes=None, zoom=1.2)"
   ]
  },
  {
   "cell_type": "code",
   "execution_count": null,
   "metadata": {},
   "outputs": [],
   "source": []
  }
 ],
 "metadata": {
  "kernelspec": {
   "display_name": "Python 3",
   "language": "python",
   "name": "python3"
  },
  "language_info": {
   "codemirror_mode": {
    "name": "ipython",
    "version": 3
   },
   "file_extension": ".py",
   "mimetype": "text/x-python",
   "name": "python",
   "nbconvert_exporter": "python",
   "pygments_lexer": "ipython3",
   "version": "3.7.3"
  }
 },
 "nbformat": 4,
 "nbformat_minor": 2
}
