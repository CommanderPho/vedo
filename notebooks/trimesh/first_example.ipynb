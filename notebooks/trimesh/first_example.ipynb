{
 "cells": [
  {
   "cell_type": "code",
   "execution_count": null,
   "metadata": {},
   "outputs": [],
   "source": [
    "\"\"\"\n",
    "Trimesh support and interoperability module.\n",
    "\n",
    "Install trimesh with:\n",
    "> sudo apt install python3-rtree\n",
    "> pip install rtree shapely\n",
    "> conda install trimesh\n",
    "\n",
    "Check the example gallery at:\n",
    "    \n",
    "https://github.com/marcomusy/vedo/tree/master/examples/other/trimesh\n",
    "\"\"\"\n",
    "import trimesh\n",
    "import vedo\n",
    "from vedo import trimesh2vtk, vtk2trimesh\n",
    "\n",
    "# uncomment this to pop a vtk rendering window instead of the K3D notebook backend\n",
    "vedo.embedWindow(False)\n",
    "\n",
    "url = 'https://raw.githubusercontent.com/mikedh/trimesh/master/models/'\n",
    "filename = vedo.download(url + 'machinist.XAML')\n",
    "\n",
    "mesh = trimesh.load(filename)\n"
   ]
  },
  {
   "cell_type": "code",
   "execution_count": null,
   "metadata": {},
   "outputs": [],
   "source": [
    "actor = trimesh2vtk(mesh) # returns a Actor(vtkActor) object from Trimesh\n",
    "vedo.show(mesh) # vedo visualizer (conversion is on the fly)\n",
    "\n",
    "trimsh_reconverted = vtk2trimesh(actor)\n",
    "trimsh_reconverted.show() # this is the trimesh built-in visualizer\n",
    "\n",
    "# This closes the vtk rendering window. Use only if embedWindow(False)\n",
    "vedo.closePlotter()"
   ]
  }
 ],
 "metadata": {
  "kernelspec": {
   "display_name": "Python 3",
   "language": "python",
   "name": "python3"
  },
  "language_info": {
   "codemirror_mode": {
    "name": "ipython",
    "version": 3
   },
   "file_extension": ".py",
   "mimetype": "text/x-python",
   "name": "python",
   "nbconvert_exporter": "python",
   "pygments_lexer": "ipython3",
   "version": "3.7.3"
  }
 },
 "nbformat": 4,
 "nbformat_minor": 2
}
