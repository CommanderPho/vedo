{
 "cells": [
  {
   "cell_type": "code",
   "execution_count": null,
   "metadata": {},
   "outputs": [],
   "source": [
    "import trimesh\n",
    "import numpy as np\n",
    "from vedo import show, Plane, printc, download\n",
    "\n",
    "# load the mesh from filename, file objects are also supported\n",
    "f = download('https://github.com/mikedh/trimesh/raw/master/models/featuretype.STL')\n",
    "mesh = trimesh.load_mesh(f)\n",
    "\n",
    "# get a single cross section of the mesh\n",
    "mslice = mesh.section(plane_origin=mesh.centroid, plane_normal=[0,0,1])\n",
    "\n",
    "pl = Plane(mesh.centroid, normal=[0,0,1], sx=6, sy=4, alpha=0.3)\n",
    "\n",
    "slice_2D, to_3D = mslice.to_planar()\n",
    "\n",
    "# show objects\n",
    "show(mesh, pl)"
   ]
  },
  {
   "cell_type": "code",
   "execution_count": null,
   "metadata": {},
   "outputs": [],
   "source": [
    "# if we wanted to take a bunch of parallel slices, like for a 3D printer\n",
    "# we can do that easily with the section_multiplane method\n",
    "# we're going to slice the mesh into evenly spaced chunks along z\n",
    "# this takes the (2,3) bounding box and slices it into [minz, maxz]\n",
    "z_extents = mesh.bounds[:,2]\n",
    "# slice every .125 model units (eg, inches)\n",
    "z_levels  = np.arange(*z_extents, step=0.125)\n",
    "\n",
    "# find a bunch of parallel cross sections\n",
    "sections = mesh.section_multiplane(plane_origin=mesh.bounds[0], \n",
    "                                   plane_normal=[0,0,1], \n",
    "                                   heights=z_levels)\n",
    "N = len(sections)\n",
    "printc(\"nr. of sections:\", N, c='green')\n",
    "\n",
    "# summing the array of Path2D objects will put all of the curves\n",
    "# into one Path2D object, which we can plot easily\n",
    "combined = np.sum(sections)\n",
    "\n",
    "# show objects in N synced renderers:\n",
    "show(combined)"
   ]
  }
 ],
 "metadata": {
  "kernelspec": {
   "display_name": "Python 3",
   "language": "python",
   "name": "python3"
  },
  "language_info": {
   "codemirror_mode": {
    "name": "ipython",
    "version": 3
   },
   "file_extension": ".py",
   "mimetype": "text/x-python",
   "name": "python",
   "nbconvert_exporter": "python",
   "pygments_lexer": "ipython3",
   "version": "3.7.3"
  }
 },
 "nbformat": 4,
 "nbformat_minor": 2
}
