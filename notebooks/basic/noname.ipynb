{
 "cells": [
  {
   "cell_type": "code",
   "execution_count": null,
   "metadata": {},
   "outputs": [],
   "source": [
    "from vtkplotter import *\n",
    "\n",
    "embedWindow('panel') # or k3d\n",
    "\n",
    "for i in range(10):\n",
    "    Cone().x(2*i).color(i) # no variable needs to be assigned\n",
    "\n",
    "# the three points symbol (aka ellipses) retrieves the list of all sofar created actors\n",
    "show(...)"
   ]
  },
  {
   "cell_type": "code",
   "execution_count": null,
   "metadata": {},
   "outputs": [],
   "source": []
  }
 ],
 "metadata": {
  "kernelspec": {
   "display_name": "Python 3",
   "language": "python",
   "name": "python3"
  },
  "language_info": {
   "codemirror_mode": {
    "name": "ipython",
    "version": 3
   },
   "file_extension": ".py",
   "mimetype": "text/x-python",
   "name": "python",
   "nbconvert_exporter": "python",
   "pygments_lexer": "ipython3",
   "version": "3.7.3"
  }
 },
 "nbformat": 4,
 "nbformat_minor": 2
}
