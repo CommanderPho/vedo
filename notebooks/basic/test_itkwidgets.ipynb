{
 "cells": [
  {
   "cell_type": "code",
   "execution_count": 1,
   "metadata": {},
   "outputs": [
    {
     "name": "stdout",
     "output_type": "stream",
     "text": [
      "Requirement already satisfied: vedo in /home/musy/soft/anaconda3/lib/python3.7/site-packages (2020.2.2)\r\n",
      "Requirement already satisfied: vtk in /home/musy/soft/anaconda3/lib/python3.7/site-packages (from vedo) (8.1.2)\r\n"
     ]
    }
   ],
   "source": [
    "# Install dependencies for this example\n",
    "# Note: This does not include itkwidgets, itself\n",
    "import sys\n",
    "!{sys.executable} -m pip install vedo"
   ]
  },
  {
   "cell_type": "code",
   "execution_count": 5,
   "metadata": {},
   "outputs": [],
   "source": [
    "from vedo import *\n",
    "\n",
    "embedWindow('itkwidgets')\n",
    "\n",
    "plt = Plotter()\n",
    "\n",
    "#cyl = Cylinder()\n",
    "#sph = Sphere().pos(1.5,1,1)\n",
    "#sph.pointColors(sph.points()[:,2])\n",
    "embryo = load(datadir+'embryo.tif')"
   ]
  },
  {
   "cell_type": "code",
   "execution_count": 6,
   "metadata": {},
   "outputs": [],
   "source": [
    "#plt += sph          # test vtkActors\n",
    "#plt += cyl\n",
    "#plt += cyl+sph      # test vtkAssembly\n",
    "plt += embryo        # test vtkVolume"
   ]
  },
  {
   "cell_type": "code",
   "execution_count": 7,
   "metadata": {},
   "outputs": [
    {
     "name": "stdout",
     "output_type": "stream",
     "text": [
      "\u001b[34m_________________________________________________________________\u001b[0m\n",
      "\u001b[7m\u001b[1m\u001b[34mvtkVolume\u001b[0m \n",
      "\u001b[1m\u001b[34m         position: \u001b[0m\u001b[34m(0.0, 0.0, 0.0)\u001b[0m\n",
      "\u001b[1m\u001b[34m       dimensions: \u001b[0m\u001b[34m(125, 80, 107)\u001b[0m\n",
      "\u001b[1m\u001b[34m          spacing: \u001b[0m\u001b[34m(104.03866670068368, 104.03866670068368, 104.03866670068368)\u001b[0m\n",
      "\u001b[1m\u001b[34m   data dimension: \u001b[0m\u001b[34m3\u001b[0m\n",
      "\u001b[1m\u001b[34m      memory size: \u001b[0m\u001b[34m1 Mb\u001b[0m\n",
      "\u001b[1m\u001b[34m    scalar #bytes: \u001b[0m\u001b[34m1\u001b[0m\n",
      "\u001b[1m\u001b[34m           bounds: \u001b[0m\u001b[34mx=(0, 1.29e+4)\u001b[0m\u001b[34m y=(0, 8.22e+3)\u001b[0m\u001b[34m z=(0, 1.10e+4)\u001b[0m\n",
      "\u001b[1m\u001b[34m     scalar range: \u001b[0m\u001b[34m(0.0, 150.0)\u001b[0m\n",
      "\u001b[34m(logscale) Histogram\t(entries=100000)\n",
      "                                      4.91\n",
      "0.00  | ▆▆▆▆▆▆▆▆▆▆▆▆▆▆▆▆▆▆▆▆▆▆▆▆▆▆▆▆▆▆\n",
      "18.25 | ▆▆▆▆▆▆▆▆▆▆▆▆▆▆▆▆▆▆▆▆▆▆\n",
      "36.50 | ▆▆▆▆▆▆▆▆▆▆▆▆▆▆▆▆▆▆▆▆▆▆\n",
      "54.75 | ▆▆▆▆▆▆▆▆▆▆▆▆▆▆▆▆▆▆▆▆▆▆\n",
      "73.00 | ▆▆▆▆▆▆▆▆▆▆▆▆▆▆▆▆▆▆▆▆▆\n",
      "91.25 | ▆▆▆▆▆▆▆▆▆▆▆▆▆▆▆▆▆▆\n",
      "109.50| ▆▆▆▆▆▆▆▆▆▆▆▆▆\n",
      "127.75| ▆▆▆▆▆▆▆▆\n",
      "\u001b[0m\n"
     ]
    },
    {
     "data": {
      "text/plain": [
       "(Volume)0x7f2700863f48"
      ]
     },
     "execution_count": 7,
     "metadata": {},
     "output_type": "execute_result"
    }
   ],
   "source": [
    "embryo.printInfo()"
   ]
  },
  {
   "cell_type": "code",
   "execution_count": 8,
   "metadata": {},
   "outputs": [
    {
     "data": {
      "application/vnd.jupyter.widget-view+json": {
       "model_id": "6f7b7ba090a04bc8aa55e934968dcd16",
       "version_major": 2,
       "version_minor": 0
      },
      "text/plain": [
       "Viewer(cmap='jet', geometries=[], gradient_opacity=0.01, point_sets=[], rendered_image=<itkImagePython.itkImag…"
      ]
     },
     "metadata": {},
     "output_type": "display_data"
    }
   ],
   "source": [
    "plt.show()"
   ]
  },
  {
   "cell_type": "code",
   "execution_count": null,
   "metadata": {},
   "outputs": [],
   "source": []
  }
 ],
 "metadata": {
  "kernelspec": {
   "display_name": "Python 3",
   "language": "python",
   "name": "python3"
  },
  "language_info": {
   "codemirror_mode": {
    "name": "ipython",
    "version": 3
   },
   "file_extension": ".py",
   "mimetype": "text/x-python",
   "name": "python",
   "nbconvert_exporter": "python",
   "pygments_lexer": "ipython3",
   "version": "3.7.3"
  }
 },
 "nbformat": 4,
 "nbformat_minor": 2
}
