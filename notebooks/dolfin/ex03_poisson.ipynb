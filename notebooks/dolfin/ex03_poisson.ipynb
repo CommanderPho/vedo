{
 "cells": [
  {
   "cell_type": "code",
   "execution_count": null,
   "metadata": {},
   "outputs": [],
   "source": [
    "\"\"\"\n",
    "Poisson equation with Dirichlet conditions.\n",
    "\n",
    "  -Laplace(u) = f    in the unit square\n",
    "            u = uD   on the boundary\n",
    "\n",
    "  uD = 1 + x^2 + 2*y^2\n",
    "  (f = -6)\n",
    "\"\"\"\n",
    "########################################################### fenics\n",
    "from fenics import *\n",
    "\n",
    "# Create mesh and define function space\n",
    "mesh = UnitSquareMesh(8, 8)\n",
    "V = FunctionSpace(mesh, \"P\", 1)\n",
    "\n",
    "# Define boundary condition\n",
    "uD = Expression(\"1 + x[0]*x[0] + 2*x[1]*x[1]\", degree=2)\n",
    "bc = DirichletBC(V, uD, \"on_boundary\")\n",
    "\n",
    "# Define variational problem\n",
    "w = TrialFunction(V)\n",
    "v = TestFunction(V)\n",
    "u = Function(V)\n",
    "f = Constant(-6.0)\n",
    "\n",
    "# Compute solution\n",
    "solve( dot(grad(w), grad(v))*dx == f*v*dx,  u, bc)\n",
    "\n",
    "########################################################### vtkplotter\n",
    "from vtkplotter.dolfin import plot\n",
    "\n",
    "plot(u, cmap='magma')"
   ]
  },
  {
   "cell_type": "code",
   "execution_count": null,
   "metadata": {},
   "outputs": [],
   "source": []
  }
 ],
 "metadata": {
  "kernelspec": {
   "display_name": "Python 3",
   "language": "python",
   "name": "python3"
  },
  "language_info": {
   "codemirror_mode": {
    "name": "ipython",
    "version": 3
   },
   "file_extension": ".py",
   "mimetype": "text/x-python",
   "name": "python",
   "nbconvert_exporter": "python",
   "pygments_lexer": "ipython3",
   "version": "3.7.3"
  }
 },
 "nbformat": 4,
 "nbformat_minor": 2
}
