{
 "cells": [
  {
   "cell_type": "markdown",
   "metadata": {},
   "source": [
    "# Notebooks Examples Index\n"
   ]
  },
  {
   "cell_type": "code",
   "execution_count": 1,
   "metadata": {},
   "outputs": [
    {
     "data": {
      "text/markdown": [
       "-  <a href='advanced/convexHull.ipynb' target='_blank'>advanced/convexHull.ipynb</a>\n",
       "-  <a href='advanced/fitline.ipynb' target='_blank'>advanced/fitline.ipynb</a>\n",
       "-  <a href='advanced/geological_model.ipynb' target='_blank'>advanced/geological_model.ipynb</a>\n",
       "-  <a href='advanced/gray_scott.ipynb' target='_blank'>advanced/gray_scott.ipynb</a>\n",
       "-  <a href='advanced/sierpinski.ipynb' target='_blank'>advanced/sierpinski.ipynb</a>\n",
       "-  <a href='advanced/thinplate_grid.ipynb' target='_blank'>advanced/thinplate_grid.ipynb</a>\n",
       "-  <a href='advanced/value-iteration.ipynb' target='_blank'>advanced/value-iteration.ipynb</a>\n",
       "-  <a href='advanced/volterra.ipynb' target='_blank'>advanced/volterra.ipynb</a>\n",
       "-  <a href='basic/align1.ipynb' target='_blank'>basic/align1.ipynb</a>\n",
       "-  <a href='basic/align2.ipynb' target='_blank'>basic/align2.ipynb</a>\n",
       "-  <a href='basic/buildmesh.ipynb' target='_blank'>basic/buildmesh.ipynb</a>\n",
       "-  <a href='basic/clustering.ipynb' target='_blank'>basic/clustering.ipynb</a>\n",
       "-  <a href='basic/connVtx.ipynb' target='_blank'>basic/connVtx.ipynb</a>\n",
       "-  <a href='basic/distance2mesh.ipynb' target='_blank'>basic/distance2mesh.ipynb</a>\n",
       "-  <a href='basic/manipulate_camera.ipynb' target='_blank'>basic/manipulate_camera.ipynb</a>\n",
       "-  <a href='basic/mirror.ipynb' target='_blank'>basic/mirror.ipynb</a>\n",
       "-  <a href='basic/noname.ipynb' target='_blank'>basic/noname.ipynb</a>\n",
       "-  <a href='basic/pca.ipynb' target='_blank'>basic/pca.ipynb</a>\n",
       "-  <a href='basic/shadow.ipynb' target='_blank'>basic/shadow.ipynb</a>\n",
       "-  <a href='basic/shrink.ipynb' target='_blank'>basic/shrink.ipynb</a>\n",
       "-  <a href='basic/sphere.ipynb' target='_blank'>basic/sphere.ipynb</a>\n",
       "-  <a href='dolfin/demo_cahn-hilliard.ipynb' target='_blank'>dolfin/demo_cahn-hilliard.ipynb</a>\n",
       "-  <a href='dolfin/demo_submesh.ipynb' target='_blank'>dolfin/demo_submesh.ipynb</a>\n",
       "-  <a href='dolfin/elasticbeam.ipynb' target='_blank'>dolfin/elasticbeam.ipynb</a>\n",
       "-  <a href='dolfin/ex03_poisson.ipynb' target='_blank'>dolfin/ex03_poisson.ipynb</a>\n",
       "-  <a href='dolfin/ex04_mixed-poisson.ipynb' target='_blank'>dolfin/ex04_mixed-poisson.ipynb</a>\n",
       "-  <a href='dolfin/ex06_elasticity2.ipynb' target='_blank'>dolfin/ex06_elasticity2.ipynb</a>\n",
       "-  <a href='dolfin/ex07_stokes-iterative.ipynb' target='_blank'>dolfin/ex07_stokes-iterative.ipynb</a>\n",
       "-  <a href='dolfin/ft02_poisson_membrane.ipynb' target='_blank'>dolfin/ft02_poisson_membrane.ipynb</a>\n",
       "-  <a href='dolfin/magnetostatics.ipynb' target='_blank'>dolfin/magnetostatics.ipynb</a>\n",
       "-  <a href='dolfin/markmesh.ipynb' target='_blank'>dolfin/markmesh.ipynb</a>\n",
       "-  <a href='dolfin/stokes.ipynb' target='_blank'>dolfin/stokes.ipynb</a>\n",
       "-  <a href='dolfin/submesh_boundary.ipynb' target='_blank'>dolfin/submesh_boundary.ipynb</a>\n",
       "-  <a href='pyplot/customAxes.ipynb' target='_blank'>pyplot/customAxes.ipynb</a>\n",
       "-  <a href='pyplot/histo_1D.ipynb' target='_blank'>pyplot/histo_1D.ipynb</a>\n",
       "-  <a href='pyplot/histo_2D.ipynb' target='_blank'>pyplot/histo_2D.ipynb</a>\n",
       "-  <a href='pyplot/histo_polar.ipynb' target='_blank'>pyplot/histo_polar.ipynb</a>\n",
       "-  <a href='pyplot/latex.ipynb' target='_blank'>pyplot/latex.ipynb</a>\n",
       "-  <a href='pyplot/plot1_errbars.ipynb' target='_blank'>pyplot/plot1_errbars.ipynb</a>\n",
       "-  <a href='pyplot/plot2_errband.ipynb' target='_blank'>pyplot/plot2_errband.ipynb</a>\n",
       "-  <a href='pyplot/plot4_fxy.ipynb' target='_blank'>pyplot/plot4_fxy.ipynb</a>\n",
       "-  <a href='pyplot/plot5_spheric.ipynb' target='_blank'>pyplot/plot5_spheric.ipynb</a>\n",
       "-  <a href='pyplot/plot6_polar.ipynb' target='_blank'>pyplot/plot6_polar.ipynb</a>\n",
       "-  <a href='pyplot/quiver.ipynb' target='_blank'>pyplot/quiver.ipynb</a>\n",
       "-  <a href='pyplot/scatter1.ipynb' target='_blank'>pyplot/scatter1.ipynb</a>\n",
       "-  <a href='pyplot/scatter2.ipynb' target='_blank'>pyplot/scatter2.ipynb</a>\n",
       "-  <a href='pyplot/scatter3.ipynb' target='_blank'>pyplot/scatter3.ipynb</a>\n",
       "-  <a href='trimesh/first_example.ipynb' target='_blank'>trimesh/first_example.ipynb</a>\n",
       "-  <a href='trimesh/ray.ipynb' target='_blank'>trimesh/ray.ipynb</a>\n",
       "-  <a href='trimesh/section.ipynb' target='_blank'>trimesh/section.ipynb</a>\n",
       "-  <a href='trimesh/shortest.ipynb' target='_blank'>trimesh/shortest.ipynb</a>\n",
       "-  <a href='volumetric/interpolateVolume.ipynb' target='_blank'>volumetric/interpolateVolume.ipynb</a>\n",
       "-  <a href='volumetric/isosurfaces2.ipynb' target='_blank'>volumetric/isosurfaces2.ipynb</a>\n",
       "-  <a href='volumetric/legosurface.ipynb' target='_blank'>volumetric/legosurface.ipynb</a>\n",
       "-  <a href='volumetric/numpy2volume.ipynb' target='_blank'>volumetric/numpy2volume.ipynb</a>\n",
       "-  <a href='volumetric/probeLine.ipynb' target='_blank'>volumetric/probeLine.ipynb</a>\n",
       "-  <a href='volumetric/streamlines2.ipynb' target='_blank'>volumetric/streamlines2.ipynb</a>\n",
       "-  <a href='volumetric/streamribbons.ipynb' target='_blank'>volumetric/streamribbons.ipynb</a>\n",
       "-  <a href='volumetric/tensors.ipynb' target='_blank'>volumetric/tensors.ipynb</a>"
      ],
      "text/plain": [
       "<IPython.core.display.Markdown object>"
      ]
     },
     "execution_count": 1,
     "metadata": {},
     "output_type": "execute_result"
    }
   ],
   "source": [
    "from IPython.display import Markdown\n",
    "from glob import glob\n",
    "\n",
    "l1 = \"\\n\".join([\"-  <a href='{1}' target='_blank'>{0}</a>\".format(x,x) for x in sorted(glob(\"*/*.ipynb\"))])\n",
    "Markdown(l1)"
   ]
  },
  {
   "cell_type": "code",
   "execution_count": null,
   "metadata": {},
   "outputs": [],
   "source": []
  },
  {
   "cell_type": "code",
   "execution_count": null,
   "metadata": {},
   "outputs": [],
   "source": []
  }
 ],
 "metadata": {
  "kernelspec": {
   "display_name": "Python 3",
   "language": "python",
   "name": "python3"
  },
  "language_info": {
   "codemirror_mode": {
    "name": "ipython",
    "version": 3
   },
   "file_extension": ".py",
   "mimetype": "text/x-python",
   "name": "python",
   "nbconvert_exporter": "python",
   "pygments_lexer": "ipython3",
   "version": "3.7.6"
  }
 },
 "nbformat": 4,
 "nbformat_minor": 1
}
