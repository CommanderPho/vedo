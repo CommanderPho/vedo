{
 "cells": [
  {
   "cell_type": "code",
   "execution_count": null,
   "metadata": {
    "scrolled": true
   },
   "outputs": [],
   "source": [
    "\"\"\"\n",
    "Align 2 shapes and for each vertex of the first draw\n",
    "and arrow to the closest point of the second.\n",
    "The source transformation is accessible with getTransform()\n",
    "rigid=True doesn't allow scaling\n",
    "\"\"\"\n",
    "from vedo import *\n",
    "\n",
    "limb = Mesh(dataurl + \"270.vtk\").alpha(0.5)\n",
    "rim  = Mesh(dataurl + \"270_rim.vtk\").c(\"red4\").ps(20)\n",
    "\n",
    "# make a clone copy of the rim line and align it to the surface\n",
    "arim = rim.clone().alignTo(limb, rigid=True).c(\"g\").ps(20)\n",
    "\n",
    "plt = Plotter(backend='k3d') # or panel, k3d, itk, ipyvtk, or None\n",
    "plt += [limb, rim, arim]\n",
    "\n",
    "# compute how well it fits\n",
    "d = 0\n",
    "for p in arim.points():\n",
    "    cpt = limb.closestPoint(p)\n",
    "    d += mag2(p - cpt)  # square of residual distance\n",
    "\n",
    "printc(\"ave. squared distance =\", d / arim.N(), c=\"g\")\n",
    "plt.show(axes=1)"
   ]
  },
  {
   "cell_type": "code",
   "execution_count": null,
   "metadata": {},
   "outputs": [],
   "source": [
    "plt.close()"
   ]
  }
 ],
 "metadata": {
  "kernelspec": {
   "display_name": "Python 3",
   "language": "python",
   "name": "python3"
  },
  "language_info": {
   "codemirror_mode": {
    "name": "ipython",
    "version": 3
   },
   "file_extension": ".py",
   "mimetype": "text/x-python",
   "name": "python",
   "nbconvert_exporter": "python",
   "pygments_lexer": "ipython3",
   "version": "3.8.8"
  }
 },
 "nbformat": 4,
 "nbformat_minor": 2
}
