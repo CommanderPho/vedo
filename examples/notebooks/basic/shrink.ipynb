{
 "cells": [
  {
   "cell_type": "code",
   "execution_count": 2,
   "metadata": {},
   "outputs": [
    {
     "data": {
      "application/vnd.jupyter.widget-view+json": {
       "model_id": "ef829b5d93bc45aa89be00383ed7ad67",
       "version_major": 2,
       "version_minor": 0
      },
      "text/plain": [
       "Scene(background_color='#ffffff', children=[RGB(input=(1.0, 0.8431372549019607, 0.0), parent=PolyMesh(data=[],…"
      ]
     },
     "metadata": {},
     "output_type": "display_data"
    }
   ],
   "source": [
    "\"\"\"Shrink the triangulation of a mesh to make the inside visible.\"\"\"\n",
    "\n",
    "from vedo import *\n",
    "embedWindow('ipyvtk') # or k3d or ipygany\n",
    "\n",
    "pot = load(dataurl+\"teapot.vtk\").shrink(0.75)\n",
    "\n",
    "s = Sphere(r=0.2).pos(0, 0, -0.5)\n",
    "\n",
    "plt = show(pot, s, viewup='z')\n",
    "plt"
   ]
  },
  {
   "cell_type": "code",
   "execution_count": null,
   "metadata": {},
   "outputs": [],
   "source": [
    "plt.close()"
   ]
  }
 ],
 "metadata": {
  "kernelspec": {
   "display_name": "Python 3",
   "language": "python",
   "name": "python3"
  },
  "language_info": {
   "codemirror_mode": {
    "name": "ipython",
    "version": 3
   },
   "file_extension": ".py",
   "mimetype": "text/x-python",
   "name": "python",
   "nbconvert_exporter": "python",
   "pygments_lexer": "ipython3",
   "version": "3.8.8"
  }
 },
 "nbformat": 4,
 "nbformat_minor": 2
}
