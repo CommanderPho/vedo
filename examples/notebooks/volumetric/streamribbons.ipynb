{
 "cells": [
  {
   "cell_type": "code",
   "execution_count": 1,
   "metadata": {},
   "outputs": [
    {
     "name": "stdout",
     "output_type": "stream",
     "text": [
      "\u001b[1musing cached file: /tmp/combxyz.bin\u001b[0m\n",
      "\u001b[1musing cached file: /tmp/combq.bin\u001b[0m\n"
     ]
    },
    {
     "data": {
      "application/vnd.jupyter.widget-view+json": {
       "model_id": "",
       "version_major": 2,
       "version_minor": 0
      },
      "text/plain": [
       "ViewInteractiveWidget(height=960, layout=Layout(height='auto', width='100%'), width=960)"
      ]
     },
     "metadata": {},
     "output_type": "display_data"
    }
   ],
   "source": [
    "\"\"\"Load an existing vtkStructuredGrid and draw the lines of the velocity field joining them in ribbons\"\"\"\n",
    "\n",
    "import vtk\n",
    "from vedo import *\n",
    "\n",
    "######################## vtk\n",
    "# Read the data and specify which scalars and vectors to read.\n",
    "pl3d = vtk.vtkMultiBlockPLOT3DReader()\n",
    "pl3d.SetXYZFileName(download(dataurl+\"combxyz.bin\"))\n",
    "pl3d.SetQFileName(download(dataurl+\"combq.bin\"))\n",
    "pl3d.SetScalarFunctionNumber(100)\n",
    "pl3d.SetVectorFunctionNumber(202)\n",
    "pl3d.Update()\n",
    "# this vtkStructuredData already contains a vector field:\n",
    "domain = pl3d.GetOutput().GetBlock(0)\n",
    "\n",
    "######################## vedo\n",
    "box = Mesh(domain, c=None, alpha=0.1)\n",
    "\n",
    "probe = Line([9,0,28], [11,0,33], res=11).color('k')\n",
    "\n",
    "stream = streamLines(domain, probe, direction='backwards', ribbons=2)\n",
    "\n",
    "plt = show(box, probe, stream, viewup='z', axes=1)\n",
    "plt"
   ]
  },
  {
   "cell_type": "code",
   "execution_count": 2,
   "metadata": {},
   "outputs": [],
   "source": [
    "plt.close()"
   ]
  },
  {
   "cell_type": "code",
   "execution_count": null,
   "metadata": {},
   "outputs": [],
   "source": []
  }
 ],
 "metadata": {
  "kernelspec": {
   "display_name": "Python 3",
   "language": "python",
   "name": "python3"
  },
  "language_info": {
   "codemirror_mode": {
    "name": "ipython",
    "version": 3
   },
   "file_extension": ".py",
   "mimetype": "text/x-python",
   "name": "python",
   "nbconvert_exporter": "python",
   "pygments_lexer": "ipython3",
   "version": "3.8.8"
  }
 },
 "nbformat": 4,
 "nbformat_minor": 2
}
